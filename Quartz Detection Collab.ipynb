Click the link below to access the collab notebook:

https://drive.google.com/file/d/1UssvRDZhG-KOyuWGa8q4RkvV8Q3JCZiu/view?usp=sharing